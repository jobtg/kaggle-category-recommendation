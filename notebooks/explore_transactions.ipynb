{
 "cells": [
  {
   "cell_type": "markdown",
   "metadata": {},
   "source": [
    "# Primary data analysis: transactions\n",
    "\n",
    "Transaction history consists of 14 columns, which are described by the table below. In this notebook, an exploratory data analysis is performed on all columns.\n",
    "\n",
    "| Column name          | Description                                      | Values |\n",
    "|----------------------|--------------------------------------------------| ------ |\n",
    "| card_id              | Card identifier                                  |  325540 unique (total: 29112361) |\n",
    "| month_lag            | month lag to reference date                      | Number between -4.5 and -1.3 |\n",
    "| purchase_date        | Purchase date                                    | Y-m-d H:m:s |\n",
    "| authorized_flag      | 'Y' if approved, 'N' if denied                   | Y / N |\n",
    "| category_3           | anonymised category                              | A / B / C / nan |\n",
    "| installments         | number of installments of purchase               | Number between -1 and 999 |\n",
    "| category_1           | anonymised category                              | Y / N |\n",
    "| merchant_category_id | Merchant category identifier (anonymised)        | 327 unique values |\n",
    "| subsector_id         | Merchant category group identifier (anonymised)  | 41 unique values |\n",
    "| merchant_id          | Merchant identifier (anonymised)                 | 326312 unique values |\n",
    "| purchase_amount      | Normalized purchase amount                       | Number between -7.5 and 6 |\n",
    "| city_id              | City identifier (anonymised)                     | 308 unique values |\n",
    "| state_id             | State identifier (anonymised)                    | 25 unique values |\n",
    "| category_2           | anonymised category                              | 1 / 2 / 3 / 4 / 5 / nan |\n",
    "\n",
    "## Suggested column features\n",
    "All data should be grouped by `card_id` while creating features.\n",
    "\n",
    "### [card_id](#card_id-exploration)\n",
    "\n",
    "### [category_n](#category-exploration)\n",
    "- Products bought in `category_n` out of all categories\n",
    "- Total bought in category.\n",
    "\n",
    "### [month_lag](#month_lag-exploration)\n",
    "- Average\n",
    "- Stddev\n",
    "- Max\n",
    "- Min\n",
    "\n",
    "### [purchase_date](#purchase_date-exploration)\n",
    "- Day of week\n",
    "- Day of month\n",
    "- Month in year\n",
    "- **EXTERNAL DATA**: Season\n",
    "\n",
    "### [authorized_flag](#authorized_flag-exploration)\n",
    "- Count `Y` and `N` values.\n",
    "- Fraction `Y / N`\n",
    "\n",
    "### [installments](#installments-exploration)\n",
    "### [purchase_amount](#purchase_amount-exploration)\n",
    "### [city_id](#city_id-exploration)\n",
    "### [state_id](#state_id-exploration)\n",
    "### [merchant_category_id](#merchant_category_id-exploration)\n",
    "### [subsector_id](#subsector_id-exploration)\n",
    "### [merchant_id](#merchant_id-exploration)\n"
   ]
  },
  {
   "cell_type": "code",
   "execution_count": null,
   "metadata": {},
   "outputs": [],
   "source": [
    "%load_ext autoreload\n",
    "%autoreload 2"
   ]
  },
  {
   "cell_type": "code",
   "execution_count": null,
   "metadata": {},
   "outputs": [],
   "source": [
    "import sys\n",
    "from pprint import pprint\n",
    "\n",
    "# Append PATH, such that methods defined in the notebooks folder can be loaded.\n",
    "sys.path.append('./notebooks')\n",
    "\n",
    "import seaborn as sns\n",
    "sns.set(color_codes=True)\n",
    "\n",
    "# # Import Dask, which allows for parallel data processing in a Pandas-way.\n",
    "# import dask.dataframe as dd\n",
    "# import dask.array as da\n",
    "# from dask.array import stats\n",
    "\n",
    "import pandas as pd\n",
    "\n",
    "import numpy as np\n",
    "\n",
    "from column_explore import dataframe_explore"
   ]
  },
  {
   "cell_type": "code",
   "execution_count": null,
   "metadata": {},
   "outputs": [],
   "source": [
    "# transactions = dd.read_csv('../data/raw/historical_transactions.csv')  # Use Dask\n",
    "transactions = pd.read_csv('../data/raw/historical_transactions.csv')  # Use Pandas"
   ]
  },
  {
   "cell_type": "code",
   "execution_count": null,
   "metadata": {},
   "outputs": [],
   "source": [
    "transactions.head()"
   ]
  },
  {
   "cell_type": "code",
   "execution_count": null,
   "metadata": {},
   "outputs": [],
   "source": [
    "transactions_histogram = transactions.hist(figsize=(15,10))"
   ]
  },
  {
   "cell_type": "markdown",
   "metadata": {},
   "source": [
    "## Primary column exploration"
   ]
  },
  {
   "cell_type": "code",
   "execution_count": null,
   "metadata": {},
   "outputs": [],
   "source": [
    "# Skip the fundamental data exploration as it takes a lot of time and provides too\n",
    "# little information.\n",
    "# fundamental_details = dataframe_explore(transactions)"
   ]
  },
  {
   "cell_type": "markdown",
   "metadata": {},
   "source": [
    "# card_id exploration\n",
    "Observations:\n",
    "\n",
    "- Some ID's have thousands of purchases.\n",
    "- The `log1p` of the purchase counts seems normally distributed (whatever that means)."
   ]
  },
  {
   "cell_type": "code",
   "execution_count": null,
   "metadata": {},
   "outputs": [],
   "source": [
    "# Determine frequencies of card_id's.\n",
    "card_id_frequencies = transactions[['card_id', 'city_id']].groupby(['card_id'])['city_id'].count().compute()"
   ]
  },
  {
   "cell_type": "code",
   "execution_count": null,
   "metadata": {},
   "outputs": [],
   "source": [
    "card_id_frequencies.sort_values(ascending=False).head(10)"
   ]
  },
  {
   "cell_type": "code",
   "execution_count": null,
   "metadata": {},
   "outputs": [],
   "source": [
    "card_id_histogram = sns.distplot(np.log1p(card_id_frequencies.values), bins=50)"
   ]
  },
  {
   "cell_type": "markdown",
   "metadata": {},
   "source": [
    "# category exploration\n",
    "\n",
    "Observations:\n",
    "The categories are distributed as follows:\n",
    "    \n",
    "**category_1**\n",
    "\n",
    "| value | fraction of data |\n",
    "| ---- | ---- |\n",
    "| N | 0.928414 |\n",
    "| Y | 0.071586 |\n",
    "\n",
    "**category_2**\n",
    "\n",
    "| value  | fraction of data |\n",
    "| ------ | ---------------- |\n",
    "| 1.0    | 0.573601         |\n",
    "| 2.0    | 0.038796         |\n",
    "| 3.0    | 0.147841         |\n",
    "| 4.0    | 0.098946         |\n",
    "| 5.0    | 0.140816         |\n",
    "\n",
    "**category_3**\n",
    "\n",
    "| value  | fraction of data |\n",
    "| ------ | ---------------- |\n",
    "|   A    | 0.532648         |\n",
    "|   B    | 0.403589         |\n",
    "|   C    | 0.063763         |\n"
   ]
  },
  {
   "cell_type": "code",
   "execution_count": null,
   "metadata": {},
   "outputs": [],
   "source": [
    "# category_1_frequencies = transactions[['category_1', 'city_id']].groupby(['category_1'])['city_id'].count().compute()\n",
    "# category_2_frequencies = transactions[['category_2', 'city_id']].groupby(['category_2'])['city_id'].count().compute()\n",
    "# category_3_frequencies = transactions[['category_3', 'city_id']].groupby(['category_3'])['city_id'].count().compute()\n",
    "\n",
    "# pprint(category_1_frequencies / category_1_frequencies.sum())\n",
    "# pprint(category_2_frequencies / category_2_frequencies.sum())\n",
    "# pprint(category_3_frequencies / category_3_frequencies.sum())"
   ]
  },
  {
   "cell_type": "markdown",
   "metadata": {},
   "source": [
    "# purchase_amount exploration\n",
    "Observations:\n",
    "\n",
    "- Neither the log1p, nor the regular histogram show a normal distribution of the purchase amount.\n",
    "- Most of the values lie between -0.75 and 0. There are some extreme values, up to millions.\n",
    "- There are also negative values in the column."
   ]
  },
  {
   "cell_type": "code",
   "execution_count": null,
   "metadata": {},
   "outputs": [],
   "source": [
    "transactions_histogram = transactions[transactions['purchase_amount'] < 1]['purchase_amount'].hist(bins=10)"
   ]
  },
  {
   "cell_type": "markdown",
   "metadata": {},
   "source": [
    "# month_lag exploration\n",
    "Observations:"
   ]
  },
  {
   "cell_type": "markdown",
   "metadata": {},
   "source": [
    "# installments exploration\n",
    "Observations:"
   ]
  },
  {
   "cell_type": "markdown",
   "metadata": {},
   "source": [
    "# purchase_date exploration\n",
    "Observations:"
   ]
  },
  {
   "cell_type": "markdown",
   "metadata": {},
   "source": [
    "# city_id exploration\n",
    "Observations:\n",
    "\n",
    "- There are 308 different cities.\n",
    "- The _smallest_ city (185) has 20 customers; the largest (69) almost 250k.\n",
    "- There are nearly 5.2k card_id's on average per city."
   ]
  },
  {
   "cell_type": "code",
   "execution_count": null,
   "metadata": {},
   "outputs": [],
   "source": [
    "transactions.groupby('city_id').agg({'card_id': ['nunique']}).describe()"
   ]
  },
  {
   "cell_type": "markdown",
   "metadata": {},
   "source": [
    "# state_id exploration\n",
    "Observations:\n",
    "- There are 25 states in which there are transactions.\n",
    "- The average number of card_id's per state is 35.6k.\n",
    "- The minimal number of card_id's in a state is 490; the maximum 270k."
   ]
  },
  {
   "cell_type": "code",
   "execution_count": null,
   "metadata": {},
   "outputs": [],
   "source": [
    "transactions.groupby('state_id').agg({'card_id': ['nunique']}).describe()"
   ]
  },
  {
   "cell_type": "markdown",
   "metadata": {},
   "source": [
    "# merchant_category_id exploration\n",
    "Observations:\n",
    "\n",
    "- There are 327 merchant categories.\n",
    "- The average number of card_id's per merchant category id is 18k.\n",
    "- The largest merchant category id was bought by 285k customers."
   ]
  },
  {
   "cell_type": "code",
   "execution_count": null,
   "metadata": {},
   "outputs": [],
   "source": [
    "transactions.groupby('merchant_category_id').agg({'card_id': ['nunique']}).describe()"
   ]
  },
  {
   "cell_type": "markdown",
   "metadata": {},
   "source": [
    "# subsector_id exploration\n",
    "Observations:\n",
    "\n",
    "- There are 41 subsector id's.\n",
    "- Per subsector id, there are 91k customer id's on average.\n",
    "- The smallest subsector id was bought by 80 customers."
   ]
  },
  {
   "cell_type": "code",
   "execution_count": null,
   "metadata": {},
   "outputs": [],
   "source": [
    "transactions.groupby('subsector_id').agg({'card_id': ['nunique']}).describe()"
   ]
  },
  {
   "cell_type": "markdown",
   "metadata": {},
   "source": [
    "# merchant_id exploration\n",
    "Observations:\n",
    "\n",
    "- There are 326,311 merchants.\n",
    "- There are 34 customers per merchant id on average.\n",
    "- The highest number of customers of a single merchant is 216k."
   ]
  },
  {
   "cell_type": "code",
   "execution_count": null,
   "metadata": {},
   "outputs": [],
   "source": [
    "transactions.groupby('merchant_id').agg({'card_id': ['nunique']}).describe()"
   ]
  }
 ],
 "metadata": {
  "kernelspec": {
   "display_name": "Python2 (dev)",
   "language": "python",
   "name": "python2"
  },
  "language_info": {
   "codemirror_mode": {
    "name": "ipython",
    "version": 2
   },
   "file_extension": ".py",
   "mimetype": "text/x-python",
   "name": "python",
   "nbconvert_exporter": "python",
   "pygments_lexer": "ipython2",
   "version": "2.7.10"
  }
 },
 "nbformat": 4,
 "nbformat_minor": 2
}
